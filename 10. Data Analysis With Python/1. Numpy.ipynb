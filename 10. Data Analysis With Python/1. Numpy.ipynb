{
 "cells": [
  {
   "cell_type": "markdown",
   "id": "f659b154",
   "metadata": {},
   "source": [
    "### Numpy\n",
    "```markdown\n",
    "numpy is fundamental library for numerical computing in Python.\n",
    "it provides support for arrays, matrices, and a wide range of mathematical functions to operate on these data structures.\n",
    "```"
   ]
  },
  {
   "cell_type": "code",
   "execution_count": null,
   "id": "97619ee4",
   "metadata": {},
   "outputs": [],
   "source": [
    "import numpy as np"
   ]
  },
  {
   "cell_type": "code",
   "execution_count": null,
   "id": "5c3c6796",
   "metadata": {},
   "outputs": [],
   "source": [
    "arr = np.array([7, -78, 2, 3, 4, 5])\n",
    "print(arr.shape)\n",
    "arr.reshape((1, 6))"
   ]
  },
  {
   "cell_type": "code",
   "execution_count": null,
   "id": "99f26065",
   "metadata": {},
   "outputs": [],
   "source": [
    "arr2 = np.array([[1, 2, 3], [4, 5, 6]])"
   ]
  },
  {
   "cell_type": "code",
   "execution_count": null,
   "id": "51069753",
   "metadata": {},
   "outputs": [],
   "source": [
    "# arrange parameter are start, stop, step\n",
    "np.arange(0, 11, 5).reshape((1, 3))"
   ]
  },
  {
   "cell_type": "code",
   "execution_count": null,
   "id": "9e2083e0",
   "metadata": {},
   "outputs": [],
   "source": [
    "# All element equal to 1\n",
    "np.ones((3, 3))"
   ]
  },
  {
   "cell_type": "code",
   "execution_count": null,
   "id": "7fbd2b05",
   "metadata": {},
   "outputs": [],
   "source": [
    "# Identity matrix\n",
    "np.eye(3)"
   ]
  },
  {
   "cell_type": "code",
   "execution_count": null,
   "id": "f35d58ef",
   "metadata": {},
   "outputs": [],
   "source": [
    "# Basic methods\n",
    "arr3 = np.array([[1, 2, 3], [4, 5, 6]])\n",
    "print(\"size of arr3 : \",arr3.size)\n",
    "print(\"shape of arr3 : \",arr3.shape)\n",
    "print(\"ndim of arr3 : \",arr3.ndim)\n",
    "print(\"dtype of arr3 : \",arr3.dtype)\n",
    "print(\"itemsize of arr3 : \",arr3.itemsize)"
   ]
  },
  {
   "cell_type": "code",
   "execution_count": null,
   "id": "7b7b0872",
   "metadata": {},
   "outputs": [],
   "source": [
    "arr1 = np.array([7, -78, 2, 3, 4, 5])\n",
    "arr2 = np.array([10,12,42,435,53,22])\n",
    "# Element-wise addition\n",
    "arr3 = arr1 + arr2\n",
    "print(\"Element-wise addition : \", arr3)\n",
    "\n",
    "# element-wise subtraction\n",
    "arr3 = arr1 - arr2\n",
    "print(\"Element-wise subtraction : \", arr3)\n",
    "\n",
    "# element-wise multiplication\n",
    "arr3 = arr1 * arr2\n",
    "print(\"Element-wise multiplication : \", arr3)\n",
    "\n",
    "# element-wise division\n",
    "arr3 = arr1 / arr2\n",
    "print(\"Element-wise division : \", arr3 )"
   ]
  },
  {
   "cell_type": "code",
   "execution_count": null,
   "id": "d3d52a3a",
   "metadata": {},
   "outputs": [],
   "source": [
    "# square Root\n",
    "print(np.sqrt(arr1))\n",
    "\n",
    "print(np.square(arr1))\n",
    "\n",
    "print(np.exp(arr1))\n",
    "\n",
    "print(np.sin(arr1))\n",
    "\n",
    "print(np.cos(arr1))\n",
    "\n",
    "# print(np.log(arr1))\n"
   ]
  }
 ],
 "metadata": {
  "kernelspec": {
   "display_name": "demo",
   "language": "python",
   "name": "python3"
  },
  "language_info": {
   "codemirror_mode": {
    "name": "ipython",
    "version": 3
   },
   "file_extension": ".py",
   "mimetype": "text/x-python",
   "name": "python",
   "nbconvert_exporter": "python",
   "pygments_lexer": "ipython3",
   "version": "3.12.9"
  }
 },
 "nbformat": 4,
 "nbformat_minor": 5
}
