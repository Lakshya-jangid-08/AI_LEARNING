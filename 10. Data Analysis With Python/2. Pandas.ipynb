{
 "cells": [
  {
   "cell_type": "markdown",
   "id": "6345ebda",
   "metadata": {},
   "source": [
    "### Pandas\n",
    "Pandas is a powerful and popular open-source data analysis and manipulation library for Python. It provides flexible data structures, such as Series (one-dimensional) and DataFrame (two-dimensional), which make it easy to clean, analyze, and visualize data. With Pandas, you can efficiently handle large datasets, perform complex data transformations, and integrate with other data science tools. Its intuitive syntax and extensive functionality have made it a standard tool in data science, finance, and scientific computing."
   ]
  },
  {
   "cell_type": "code",
   "execution_count": null,
   "id": "a95fe355",
   "metadata": {},
   "outputs": [],
   "source": [
    "import pandas as pd"
   ]
  },
  {
   "cell_type": "code",
   "execution_count": null,
   "id": "b19ab689",
   "metadata": {},
   "outputs": [],
   "source": [
    "# SERIES\n",
    "#  one dimensional array - like obj that can hold any data type.mro\n",
    "#  it similiar to a column in a table\n",
    "\n",
    "dataList = [13,24,45,23]\n",
    "series = pd.Series(dataList)\n",
    "print(series)\n",
    "print(type(series))\n"
   ]
  },
  {
   "cell_type": "code",
   "execution_count": null,
   "id": "b749b846",
   "metadata": {},
   "outputs": [],
   "source": [
    "# Creating Series from a dictionary\n",
    "dataDict = {'a':23,'b':45,'c':67}\n",
    "series = pd.Series(dataDict)\n",
    "print(series)\n",
    "print(type(series))"
   ]
  },
  {
   "cell_type": "code",
   "execution_count": null,
   "id": "5fc8aca4",
   "metadata": {},
   "outputs": [],
   "source": [
    "#  I want to give index over my choice\n",
    "index = [13, 26, 39, 52]\n",
    "val = [\"red\", \"blue\", \"green\", \"yellow\"]\n",
    "\n",
    "series  = pd.Series(val,index = index)\n",
    "series\n"
   ]
  },
  {
   "cell_type": "code",
   "execution_count": null,
   "id": "93366952",
   "metadata": {},
   "outputs": [],
   "source": [
    "# DATAFRAME\n",
    "#  two dimensional array - like object that can hold any data type\n",
    "#  it is similar to a table in a database or a spreadsheet\n",
    "\n",
    "dict = {\n",
    "    \"student_name\" : [\"lakshya\", \"soniya\", \"krishna kant\", \"komal\"],\n",
    "    \"percentage\" : [85, 90, 78, 88],\n",
    "    \"age\" : [20, 19, 21, 19]\n",
    "}\n",
    "\n",
    "df = pd.DataFrame(dict)\n",
    "df\n"
   ]
  },
  {
   "cell_type": "code",
   "execution_count": null,
   "id": "472e05b2",
   "metadata": {},
   "outputs": [],
   "source": [
    "# creating a DataFrame from a list of dictionaries\n",
    "lst = [\n",
    "    {\"student_name\": \"lakshya\", \"percentage\": 85, \"age\": 20},\n",
    "    {\"student_name\": \"soniya\", \"percentage\": 90, \"age\": 19},\n",
    "    {\"student_name\": \"krishna kant\", \"percentage\": 78, \"age\": 21},\n",
    "    {\"student_name\": \"komal\", \"percentage\": 88, \"age\": 19}\n",
    "]\n",
    "\n",
    "df = pd.DataFrame(lst)\n",
    "df\n"
   ]
  },
  {
   "cell_type": "code",
   "execution_count": null,
   "id": "7c49426f",
   "metadata": {},
   "outputs": [],
   "source": [
    "df = pd.read_csv('people-100.csv')\n",
    "df.head(5)  # first 5 rows"
   ]
  },
  {
   "cell_type": "code",
   "execution_count": null,
   "id": "a0b9bf09",
   "metadata": {},
   "outputs": [],
   "source": [
    "df.tail(5)  # last 5 rows"
   ]
  },
  {
   "cell_type": "code",
   "execution_count": null,
   "id": "14fd9caf",
   "metadata": {},
   "outputs": [],
   "source": [
    "# Extract series means specific columns\n",
    "df['First Name']"
   ]
  },
  {
   "cell_type": "code",
   "execution_count": null,
   "id": "cacbbb0e",
   "metadata": {},
   "outputs": [],
   "source": [
    "dict = {\n",
    "    \"student_name\" : [\"lakshya\", \"soniya\", \"krishna kant\", \"komal\"],\n",
    "    \"percentage\" : [85, 90, 78, 88],\n",
    "    \"age\" : [20, 19, 21, 19]\n",
    "}\n",
    "\n",
    "index = [10, 20, 30, 40]\n",
    "\n",
    "df = pd.DataFrame(dict, index=index)"
   ]
  },
  {
   "cell_type": "code",
   "execution_count": null,
   "id": "ec090ad2",
   "metadata": {},
   "outputs": [],
   "source": [
    "print(df)\n",
    "print(\"\")\n",
    "print(df.loc[10])  # means extract by the value of index which is given by us\n",
    "print(\"\")\n",
    "print(df.loc[10][0])  # means extract by the value of index and column name\n",
    "print(\"\")\n",
    "print(df.iloc[0])  # means extract by the position of index "
   ]
  },
  {
   "cell_type": "code",
   "execution_count": null,
   "id": "f75d83e4",
   "metadata": {},
   "outputs": [],
   "source": [
    "# Accessing Specific Elements\n",
    "df.at[10, 'student_name']"
   ]
  },
  {
   "cell_type": "code",
   "execution_count": null,
   "id": "dfde0f3e",
   "metadata": {},
   "outputs": [],
   "source": [
    "# Accessing Specific Elements using iat\n",
    "\n",
    "df.iat[0, 0]"
   ]
  },
  {
   "cell_type": "code",
   "execution_count": null,
   "id": "2b7e44d9",
   "metadata": {},
   "outputs": [],
   "source": [
    "# Adding extra column\n",
    "df['salary'] = [50000, 60000, 55000, 58000]\n",
    "df"
   ]
  },
  {
   "cell_type": "code",
   "execution_count": null,
   "id": "7a807432",
   "metadata": {},
   "outputs": [],
   "source": [
    "df.drop('percentage', axis=1, inplace=True)\n",
    "# in first parameter i have to write the column name which i want to drop\n",
    "#  second parameter i have to write the axis, becuase by default it is 0, which means it will drop the row, if i want to drop the column then i have to write 1\n",
    "#  third parameter i have to write inplace, if i want to make the changes in the original dataframe, else it is temporary operation"
   ]
  },
  {
   "cell_type": "code",
   "execution_count": null,
   "id": "e2c045b1",
   "metadata": {},
   "outputs": [],
   "source": [
    "df_csv = pd.read_csv('people-100.csv')\n",
    "# print(df_csv)\n",
    "print(df_csv.dtypes)  # it will show the data types of each column"
   ]
  },
  {
   "cell_type": "code",
   "execution_count": null,
   "id": "f08a4951",
   "metadata": {},
   "outputs": [],
   "source": [
    "df_csv.describe()  # it will show the statistical summary of numerical columns"
   ]
  }
 ],
 "metadata": {
  "kernelspec": {
   "display_name": "demo",
   "language": "python",
   "name": "python3"
  },
  "language_info": {
   "codemirror_mode": {
    "name": "ipython",
    "version": 3
   },
   "file_extension": ".py",
   "mimetype": "text/x-python",
   "name": "python",
   "nbconvert_exporter": "python",
   "pygments_lexer": "ipython3",
   "version": "3.12.9"
  }
 },
 "nbformat": 4,
 "nbformat_minor": 5
}
