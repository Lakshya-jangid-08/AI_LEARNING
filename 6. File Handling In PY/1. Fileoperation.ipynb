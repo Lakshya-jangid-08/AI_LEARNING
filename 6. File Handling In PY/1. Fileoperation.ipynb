{
 "cells": [
  {
   "cell_type": "markdown",
   "id": "36a451e5",
   "metadata": {},
   "source": [
    "## File Operations in Python\n",
    "\n",
    "File operations are essential for reading from and writing to files in Python. They allow you to store data persistently, process large datasets, and interact with external resources.\n",
    "\n",
    "### Common File Operations\n",
    "\n",
    "- **Opening a File:**  \n",
    "    Use the `open()` function to open a file. You can specify the mode, such as `'r'` for reading, `'w'` for writing, or `'a'` for appending.\n",
    "    ```python\n",
    "    file = open('example.txt', 'r')\n",
    "    ```\n",
    "\n",
    "- **Reading from a File:**  \n",
    "    Use methods like `.read()`, `.readline()`, or `.readlines()` to read data.\n",
    "    ```python\n",
    "    content = file.read()\n",
    "    ```\n",
    "\n",
    "- **Writing to a File:**  \n",
    "    Open the file in write (`'w'`) or append (`'a'`) mode and use `.write()` or `.writelines()`.\n",
    "    ```python\n",
    "    file = open('example.txt', 'w')\n",
    "    file.write('Hello, World!')\n",
    "    ```\n",
    "\n",
    "- **Closing a File:**  \n",
    "    Always close the file after operations to free resources.\n",
    "    ```python\n",
    "    file.close()\n",
    "    ```\n",
    "\n",
    "- **Using `with` Statement:**  \n",
    "    The `with` statement automatically closes the file, even if an error occurs.\n",
    "    ```python\n",
    "    with open('example.txt', 'r') as file:\n",
    "            content = file.read()\n",
    "    ```\n",
    "\n",
    "### File Modes\n",
    "\n",
    "| Mode | Description           |\n",
    "|------|-----------------------|\n",
    "| `'r'`  | Read (default)         |\n",
    "| `'w'`  | Write (overwrite)      |\n",
    "| `'a'`  | Append                 |\n",
    "| `'b'`  | Binary mode            |\n",
    "| `'+'`  | Read and write         |\n",
    "\n",
    "File operations are fundamental for data processing and automation tasks in Python."
   ]
  },
  {
   "cell_type": "code",
   "execution_count": 30,
   "id": "6da0e014",
   "metadata": {},
   "outputs": [
    {
     "name": "stdout",
     "output_type": "stream",
     "text": [
      "This is a new line added to the file.\n",
      "This is another line.\n",
      "This line will overwrite the entire file.\n",
      "This is the new first line.\n",
      "This is the new second line.\n",
      "This is the new third line.\n",
      "This is the new first line.\n",
      "This is the new second line.\n",
      "This is the new third line.\n",
      "\n"
     ]
    }
   ],
   "source": [
    "# open file as Read only mode \n",
    "with open(\"example.txt\", \"r\") as file:\n",
    "    content = file.read()\n",
    "    print(content)"
   ]
  },
  {
   "cell_type": "code",
   "execution_count": 31,
   "id": "3ffa44c8",
   "metadata": {},
   "outputs": [
    {
     "name": "stdout",
     "output_type": "stream",
     "text": [
      "This is a new line added to the file.\n",
      "This is another line.\n",
      "This line will overwrite the entire file.\n",
      "This is the new first line.\n",
      "This is the new second line.\n",
      "This is the new third line.\n",
      "This is the new first line.\n",
      "This is the new second line.\n",
      "This is the new third line.\n"
     ]
    }
   ],
   "source": [
    "# Read a file line by line\n",
    "with open(\"example.txt\", \"r\") as file:\n",
    "    for line in file:\n",
    "        print(line.strip())\n",
    "\n",
    "# I used .strip() to remove new line characters and extra spaces"
   ]
  },
  {
   "cell_type": "code",
   "execution_count": 32,
   "id": "09c20534",
   "metadata": {},
   "outputs": [],
   "source": [
    "# Open a while for writting someThing\n",
    "# But this function Overwrites the entire file , Remove previous content\n",
    "with open(\"example.txt\", \"w\") as file:\n",
    "    file.write(\"This is a new line added to the file.\\n\")\n",
    "    file.write(\"This is another line.\\n\")\n",
    "# that is Problem"
   ]
  },
  {
   "cell_type": "code",
   "execution_count": 33,
   "id": "3ca4fc9f",
   "metadata": {},
   "outputs": [],
   "source": [
    "# Write file with Overwrite mode\n",
    "with open(\"example.txt\", \"a\") as file:\n",
    "    file.write(\"This line will overwrite the entire file.\\n\")"
   ]
  },
  {
   "cell_type": "code",
   "execution_count": 34,
   "id": "291d6732",
   "metadata": {},
   "outputs": [],
   "source": [
    "# writing a list of lines\n",
    "lines = [\n",
    "    \"This is the new first line.\\n\",\n",
    "    \"This is the new second line.\\n\",\n",
    "    \"This is the new third line.\\n\"\n",
    "]\n",
    "with open(\"example.txt\", \"a\") as file:\n",
    "    for line in lines:\n",
    "        file.write(line)\n",
    "\n",
    "# Another way to write multiple lines is to use writelines()\n",
    "with open(\"example.txt\", \"a\") as file:\n",
    "    file.writelines(lines)"
   ]
  },
  {
   "cell_type": "code",
   "execution_count": 35,
   "id": "ae2cf3d9",
   "metadata": {},
   "outputs": [
    {
     "name": "stdout",
     "output_type": "stream",
     "text": [
      "b'\\x00\\x01\\x02\\x03\\x04\\x05\\x06\\x07\\x08\\t'\n"
     ]
    }
   ],
   "source": [
    "# write binary file & read binary file\n",
    "data = b\"\\x00\\x01\\x02\\x03\\x04\\x05\\x06\\x07\\x08\\x09\"\n",
    "with open(\"example.bin\", \"wb\") as file :\n",
    "    file.write(data)\n",
    "\n",
    "with open(\"example.bin\", \"rb\") as file:\n",
    "    content = file.read()\n",
    "    print(content)"
   ]
  },
  {
   "cell_type": "code",
   "execution_count": 36,
   "id": "dd30a27e",
   "metadata": {},
   "outputs": [],
   "source": [
    "# Read from Source file & Paste it on Destination file\n",
    "\n",
    "with open(\"example.txt\", \"r\") as src_file :\n",
    "    content = src_file.read()\n",
    "\n",
    "with open(\"destination.txt\",\"w\") as dst_file:\n",
    "    dst_file.write(content)"
   ]
  },
  {
   "cell_type": "code",
   "execution_count": 37,
   "id": "14629b4f",
   "metadata": {},
   "outputs": [
    {
     "name": "stdout",
     "output_type": "stream",
     "text": [
      "9\n",
      "56\n",
      "225\n"
     ]
    }
   ],
   "source": [
    "# Assignment\n",
    "\n",
    "with open(\"example.txt\", \"r\") as file:\n",
    "    lines = file.readlines()\n",
    "    print(len(lines))  # Print the number of lines in the file\n",
    "    words = [word for line in lines for word in line.split(\" \")]\n",
    "    print(len(words))  # Print the number of words in the file\n",
    "    characters = [len(word) for word in words]\n",
    "    print(sum(characters))  # Print the total number of characters in the file"
   ]
  },
  {
   "cell_type": "markdown",
   "id": "c2deb674",
   "metadata": {},
   "source": [
    "The w+ mode in Py is used to open a file for both writting & reading\n",
    "if file doesnot exist then it will be created\n",
    "if exist then it content truncated(ie. file overwritten)"
   ]
  },
  {
   "cell_type": "code",
   "execution_count": null,
   "id": "639be185",
   "metadata": {},
   "outputs": [
    {
     "name": "stdout",
     "output_type": "stream",
     "text": [
      "\n"
     ]
    }
   ],
   "source": [
    "# Writing & Reading file\n",
    "\n",
    "with open(\"example.txt\",\"w+\") as file:\n",
    "    file.write(\"This is a line written in w+ mode.\\n\")\n",
    "    file.write(\"This is another line.\\n\")\n",
    "\n",
    "    file.seek(0)  # Move the cursor to the beginning of the file (0th index)\n",
    "    #if we dont do that , read character will Zero\n",
    "    content = file.read()\n",
    "    print(content)"
   ]
  }
 ],
 "metadata": {
  "kernelspec": {
   "display_name": "demo",
   "language": "python",
   "name": "python3"
  },
  "language_info": {
   "codemirror_mode": {
    "name": "ipython",
    "version": 3
   },
   "file_extension": ".py",
   "mimetype": "text/x-python",
   "name": "python",
   "nbconvert_exporter": "python",
   "pygments_lexer": "ipython3",
   "version": "3.12.9"
  }
 },
 "nbformat": 4,
 "nbformat_minor": 5
}
