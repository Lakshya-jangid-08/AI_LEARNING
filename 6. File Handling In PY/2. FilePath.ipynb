{
 "cells": [
  {
   "cell_type": "markdown",
   "id": "f6883b27",
   "metadata": {},
   "source": [
    "A filepath is a string that specifies the location of a file or directory in a computer's file system. It can be an absolute path, which starts from the root directory, or a relative path, which is defined in relation to the current working directory. Using correct filepaths is essential for reading from or writing to files in your code."
   ]
  },
  {
   "cell_type": "code",
   "execution_count": 1,
   "id": "d9ce8e12",
   "metadata": {},
   "outputs": [
    {
     "data": {
      "text/plain": [
       "'c:\\\\Users\\\\rajja\\\\AI Learning\\\\6. File Handling In PY'"
      ]
     },
     "execution_count": 1,
     "metadata": {},
     "output_type": "execute_result"
    }
   ],
   "source": [
    "import os\n",
    "os.getcwd()  # Get current working directory"
   ]
  },
  {
   "cell_type": "code",
   "execution_count": null,
   "id": "a4745528",
   "metadata": {},
   "outputs": [
    {
     "name": "stdout",
     "output_type": "stream",
     "text": [
      "['1. Fileoperation.ipynb', '2. FilePath.ipynb', 'destination.txt', 'example.bin', 'example.txt']\n"
     ]
    }
   ],
   "source": [
    "# List all files and directories in the current directory\n",
    "items = os.listdir()  \n",
    "print(items)"
   ]
  },
  {
   "cell_type": "code",
   "execution_count": 4,
   "id": "f60ed6b9",
   "metadata": {},
   "outputs": [
    {
     "name": "stdout",
     "output_type": "stream",
     "text": [
      "example_dir\\example.txt\n",
      "c:\\Users\\rajja\\AI Learning\\6. File Handling In PY\\example_dir\\example.txt\n"
     ]
    }
   ],
   "source": [
    "# Importance feature Joining Paths\n",
    "\n",
    "dirName = \"example_dir\"\n",
    "fileName = \"example.txt\"\n",
    "filePath = os.path.join(dirName, fileName)\n",
    "print(filePath) # relative path\n",
    "\n",
    "filePath = os.path.join(os.getcwd(), dirName, fileName)\n",
    "print(filePath) # absolute path"
   ]
  },
  {
   "cell_type": "code",
   "execution_count": 6,
   "id": "95cbd26f",
   "metadata": {},
   "outputs": [
    {
     "name": "stdout",
     "output_type": "stream",
     "text": [
      "this path : example.txt exists\n"
     ]
    }
   ],
   "source": [
    "path = \"example.txt\"\n",
    "if os.path.exists(path) :\n",
    "    print(\"this path :\",path,\"exists\")\n",
    "else :\n",
    "    print(\"this path :\",path,\"does not exist\")"
   ]
  },
  {
   "cell_type": "code",
   "execution_count": 7,
   "id": "7e362364",
   "metadata": {},
   "outputs": [
    {
     "name": "stdout",
     "output_type": "stream",
     "text": [
      "this path : example.txt is a file\n"
     ]
    }
   ],
   "source": [
    "# Checking if a path is a file or directory\n",
    "if os.path.isfile(path):\n",
    "    print(\"this path :\", path, \"is a file\")\n",
    "elif os.path.isdir(path):\n",
    "    print(\"this path :\", path, \"is a directory\")\n",
    "else:\n",
    "    print(\"this path :\", path, \"is neither a file nor a directory\")\n"
   ]
  },
  {
   "cell_type": "code",
   "execution_count": 11,
   "id": "a3e99a8f",
   "metadata": {},
   "outputs": [
    {
     "name": "stdout",
     "output_type": "stream",
     "text": [
      "c:\\Users\\rajja\\AI Learning\\3. InBuild Data Structure In PY\n"
     ]
    }
   ],
   "source": [
    "# Getting the absolute path\n",
    "relative_path = \"../3. InBuild Data Structure In PY\"\n",
    "absolute_path = os.path.abspath(relative_path)\n",
    "print(absolute_path)"
   ]
  }
 ],
 "metadata": {
  "kernelspec": {
   "display_name": "demo",
   "language": "python",
   "name": "python3"
  },
  "language_info": {
   "codemirror_mode": {
    "name": "ipython",
    "version": 3
   },
   "file_extension": ".py",
   "mimetype": "text/x-python",
   "name": "python",
   "nbconvert_exporter": "python",
   "pygments_lexer": "ipython3",
   "version": "3.12.9"
  }
 },
 "nbformat": 4,
 "nbformat_minor": 5
}
