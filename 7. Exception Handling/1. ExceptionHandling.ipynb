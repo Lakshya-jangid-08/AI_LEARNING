{
 "cells": [
  {
   "cell_type": "markdown",
   "id": "f22a6a18",
   "metadata": {},
   "source": [
    "**Exceptions in Python**\n",
    "\n",
    "Exceptions are errors detected during execution. They interrupt the normal flow of a program.\n",
    "\n",
    "**Common Types of Exceptions:**\n",
    "\n",
    "- **ZeroDivisionError**: Raised when dividing by zero.\n",
    "- **FileNotFoundError**: Raised when a file or directory is requested but doesn’t exist.\n",
    "- **ValueError**: Raised when a function receives an argument of the right type but inappropriate value.\n",
    "- **TypeError**: Raised when an operation is applied to an object of inappropriate type."
   ]
  },
  {
   "cell_type": "code",
   "execution_count": null,
   "id": "29250bb3",
   "metadata": {},
   "outputs": [],
   "source": [
    "# x = 10 / 0\n",
    "# Above line give me Error -> ZeroDivisionError: division by zero\n",
    "# I can handle this error using try-except block\n",
    "try:\n",
    "    x = 10 / 0\n",
    "except ZeroDivisionError:\n",
    "    print(\"Error: Division by zero is not allowed.\")\n",
    "except Exception as e:\n",
    "    print(\"Error:\", e)\n",
    "\n",
    "# At last we used Exception to catch any other errors\n",
    "\n",
    "try: \n",
    "    x = 10/0\n",
    "except :\n",
    "    print(\"Error: Something went wrong.\")\n"
   ]
  },
  {
   "cell_type": "code",
   "execution_count": null,
   "id": "75a4df51",
   "metadata": {},
   "outputs": [],
   "source": [
    "# try ,except, else block\n",
    "try:\n",
    "    num = int(input(\"Enter a number: \"))\n",
    "    x = 10 / num\n",
    "except ValueError:\n",
    "    print(\"Error: Invalid input. Please enter a number.\")\n",
    "except ZeroDivisionError:\n",
    "    print(\"Error: Division by zero is not allowed.\")\n",
    "except Exception as e:\n",
    "    print(\"Error:\", e)\n",
    "else:\n",
    "    print(\"Result:\", x)\n",
    "\n",
    "# Else will run when no error Occurs during execution"
   ]
  },
  {
   "cell_type": "code",
   "execution_count": null,
   "id": "5cb7f5c3",
   "metadata": {},
   "outputs": [],
   "source": [
    "# Try, except, else ,finally Block\n",
    "# else will run when no error occurs during execution\n",
    "# finally will run always\n",
    "try: \n",
    "    num = int(input(\"Enter a number: \"))\n",
    "    x = 10 / num\n",
    "except ValueError:\n",
    "    print(\"Error: Invalid input. Please enter a number.\")\n",
    "except ZeroDivisionError:\n",
    "    print(\"Error: Division by zero is not allowed.\")\n",
    "except Exception as e:\n",
    "    print(\"Error:\", e)\n",
    "else:\n",
    "    print(\"Result:\", x)\n",
    "finally:\n",
    "    print(\"Execution completed.\")\n"
   ]
  },
  {
   "cell_type": "code",
   "execution_count": null,
   "id": "1b0d8c55",
   "metadata": {},
   "outputs": [],
   "source": [
    "# Exception Handling & File Handling\n",
    "\n",
    "try:\n",
    "    file = open(\"non_existent_file.txt\", \"r\")\n",
    "    content = file.read()\n",
    "    print(content)\n",
    "except FileNotFoundError:\n",
    "    print(\"Error: File not found.\")\n",
    "except Exception as e:\n",
    "    print(\"Error:\", e)\n",
    "finally:\n",
    "    if 'file' in locals() or not file.closed():\n",
    "        file.close()\n",
    "        print(\"File closed.\")\n",
    "# locals() will contain all local variables\n",
    "# instead of or , if we used and then the file will gives an error if the file is not opened"
   ]
  }
 ],
 "metadata": {
  "kernelspec": {
   "display_name": "demo",
   "language": "python",
   "name": "python3"
  },
  "language_info": {
   "codemirror_mode": {
    "name": "ipython",
    "version": 3
   },
   "file_extension": ".py",
   "mimetype": "text/x-python",
   "name": "python",
   "nbconvert_exporter": "python",
   "pygments_lexer": "ipython3",
   "version": "3.12.9"
  }
 },
 "nbformat": 4,
 "nbformat_minor": 5
}
