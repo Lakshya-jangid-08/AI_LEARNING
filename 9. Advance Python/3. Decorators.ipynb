{
 "cells": [
  {
   "cell_type": "markdown",
   "id": "adbbd168",
   "metadata": {},
   "source": [
    "Decorators are a powerfull & flexible feature in python that allows you to modify the behaviour of a function or class method. They are commonly used to add functionality to func or method without modifying thier actual code.\n",
    "this lesson covers  the basic of dec. including creaating & use\n"
   ]
  },
  {
   "cell_type": "markdown",
   "id": "28de65c3",
   "metadata": {},
   "source": [
    "### 3.1 Print Copy Function\n",
    "\n",
    "Let's create a decorator that prints a copy of the function name before calling the original function. This demonstrates how decorators can add behavior to existing functions without modifying their code."
   ]
  },
  {
   "cell_type": "code",
   "execution_count": null,
   "id": "2cb8a052",
   "metadata": {},
   "outputs": [],
   "source": [
    "def func() :\n",
    "    print(\"Hello, I am a function\")"
   ]
  },
  {
   "cell_type": "code",
   "execution_count": null,
   "id": "a689a5ef",
   "metadata": {},
   "outputs": [],
   "source": [
    "copyFunc = func\n",
    "copyFunc()\n",
    "del func\n",
    "copyFunc()  # This will still work because copyFunc holds a reference to the original function\n"
   ]
  },
  {
   "cell_type": "markdown",
   "id": "1b3c6dcd",
   "metadata": {},
   "source": [
    "### 3.2 Closures\n",
    "\n",
    "A closure is a function object that remembers values in enclosing scopes even if they are not present in memory. Closures allow the inner function to access variables from the outer function even after the outer function has finished executing.\n",
    "\n",
    "**Example:**\n",
    "\n",
    "```python\n",
    "def outer_func(msg):\n",
    "    def inner_func():\n",
    "        print(msg)\n",
    "    return inner_func\n",
    "\n",
    "greet = outer_func(\"Hello from closure!\")\n",
    "greet()  # Output: Hello from closure!\n",
    "```\n",
    "\n",
    "In this example, `inner_func` is a closure that captures and remembers the value of `msg` from its enclosing scope."
   ]
  },
  {
   "cell_type": "code",
   "execution_count": null,
   "id": "c2e4cdf4",
   "metadata": {},
   "outputs": [],
   "source": [
    "def mainFunc(msg) :\n",
    "    print(\"I am the main function\")\n",
    "    def subFunc() :\n",
    "        print(\"I am the sub function\")\n",
    "        print(\"And i am saying \" + msg)\n",
    "    return subFunc()"
   ]
  },
  {
   "cell_type": "code",
   "execution_count": null,
   "id": "2cde5dbc",
   "metadata": {},
   "outputs": [],
   "source": [
    "mainFunc(\"Hello, how are you ?\")"
   ]
  },
  {
   "cell_type": "markdown",
   "id": "4ec43e7a",
   "metadata": {},
   "source": [
    "### 3.3 Decorators\n",
    "\n",
    "A decorator is a function that takes another function as an argument and extends or alters its behavior without explicitly modifying it. Decorators are often used for logging, access control, instrumentation, and more.\n",
    "\n",
    "**Example:**\n",
    "\n",
    "```python\n",
    "def my_decorator(func):\n",
    "    def wrapper():\n",
    "        print(\"Something is happening before the function is called.\")\n",
    "        func()\n",
    "        print(\"Something is happening after the function is called.\")\n",
    "    return wrapper\n",
    "\n",
    "@my_decorator\n",
    "def say_hello():\n",
    "    print(\"Hello!\")\n",
    "\n",
    "say_hello()\n",
    "```\n",
    "\n",
    "In this example, `@my_decorator` is a decorator that wraps the `say_hello` function, adding behavior before and after its execution."
   ]
  },
  {
   "cell_type": "code",
   "execution_count": null,
   "id": "5c56aecc",
   "metadata": {},
   "outputs": [],
   "source": [
    "def decorator_function(func):\n",
    "    def wrapper():\n",
    "        print(\"Something is happening before the function is called.\")\n",
    "        func()\n",
    "        print(\"Something is happening after the function is called.\")\n",
    "    return wrapper\n",
    "\n",
    "@decorator_function\n",
    "def display():\n",
    "    print(\"Display function called.\")\n"
   ]
  },
  {
   "cell_type": "code",
   "execution_count": null,
   "id": "824a79b7",
   "metadata": {},
   "outputs": [],
   "source": [
    "def repeat(num_times):\n",
    "    def decorator_repeat(func):\n",
    "        def wrapper(*args, **kwargs):\n",
    "            for _ in range(num_times):\n",
    "                result = func(*args, **kwargs)\n",
    "            return result\n",
    "        return wrapper\n",
    "    return decorator_repeat\n",
    "\n",
    "@repeat(3)\n",
    "def greet(name):\n",
    "    print(f\"Hello, {name}!\")\n",
    "\n",
    "greet(\"Alice\")\n",
    "def greet(name):\n",
    "    print(f\"Hello, {name}!\")\n",
    "display = repeat(2)(greet)\n",
    "display(\"Bob\")"
   ]
  }
 ],
 "metadata": {
  "kernelspec": {
   "display_name": "demo",
   "language": "python",
   "name": "python3"
  },
  "language_info": {
   "codemirror_mode": {
    "name": "ipython",
    "version": 3
   },
   "file_extension": ".py",
   "mimetype": "text/x-python",
   "name": "python",
   "nbconvert_exporter": "python",
   "pygments_lexer": "ipython3",
   "version": "3.12.9"
  }
 },
 "nbformat": 4,
 "nbformat_minor": 5
}
