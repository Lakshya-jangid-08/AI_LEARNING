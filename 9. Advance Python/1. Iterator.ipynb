{
 "cells": [
  {
   "cell_type": "markdown",
   "id": "170d1855",
   "metadata": {},
   "source": [
    "Iterators are an advanced Python concept that enable efficient looping and file management. They provide a way to access elements of a collection sequentially without exposing the underlying structure. This allows for memory-efficient processing of large datasets and seamless iteration over various data types."
   ]
  },
  {
   "cell_type": "code",
   "execution_count": null,
   "id": "5d587679",
   "metadata": {},
   "outputs": [],
   "source": [
    "my_list = [1, 2, 3, 4, 5]\n",
    "my_list"
   ]
  },
  {
   "cell_type": "code",
   "execution_count": null,
   "id": "4def86d1",
   "metadata": {},
   "outputs": [],
   "source": [
    "# I converted the list into an iterator\n",
    "iterator = iter(my_list)\n",
    "iterator"
   ]
  },
  {
   "cell_type": "code",
   "execution_count": null,
   "id": "cbef4be1",
   "metadata": {},
   "outputs": [],
   "source": [
    "# iterator Follow lazy loading\n",
    "next(iterator)\n",
    "# until last element is reached iterator shows each element one by one by the ending of last element\n",
    "# this will shown StopIteration  Exception"
   ]
  },
  {
   "cell_type": "code",
   "execution_count": null,
   "id": "782eae0c",
   "metadata": {},
   "outputs": [],
   "source": [
    "iterator = iter(my_list)\n",
    "try:\n",
    "    while True:\n",
    "        element = next(iterator)\n",
    "        print(element)\n",
    "except StopIteration:\n",
    "    print(\"Reached the end of the iterator.\")\n",
    "finally:\n",
    "    print(\"Iterator has been exhausted.\")"
   ]
  },
  {
   "cell_type": "markdown",
   "id": "77c66668",
   "metadata": {},
   "source": [
    "- **Memory Efficiency:** Iterators process elements one at a time, which is ideal for working with large datasets as they do not require loading the entire collection into memory.\n",
    "- **Lazy Evaluation:** Elements are generated on-the-fly, allowing for efficient computation and reduced resource usage.\n",
    "- **Seamless Looping:** Iterators provide a consistent interface for looping over different data structures (lists, files, etc.).\n",
    "- **Improved Performance:** By avoiding unnecessary computations and memory allocations, iterators can make code faster and more responsive.\n",
    "- **Flexibility:** Iterators can be chained and combined to create complex data processing pipelines."
   ]
  }
 ],
 "metadata": {
  "kernelspec": {
   "display_name": "demo",
   "language": "python",
   "name": "python3"
  },
  "language_info": {
   "codemirror_mode": {
    "name": "ipython",
    "version": 3
   },
   "file_extension": ".py",
   "mimetype": "text/x-python",
   "name": "python",
   "nbconvert_exporter": "python",
   "pygments_lexer": "ipython3",
   "version": "3.12.9"
  }
 },
 "nbformat": 4,
 "nbformat_minor": 5
}
