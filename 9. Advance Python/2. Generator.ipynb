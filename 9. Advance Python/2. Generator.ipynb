{
 "cells": [
  {
   "cell_type": "markdown",
   "id": "94a3175a",
   "metadata": {},
   "source": [
    "Generators are a simple way to create iterators. They use the `yield` keyword to produce a series of values lazily, which means they generate values on the fly and do not store them in memory."
   ]
  },
  {
   "cell_type": "code",
   "execution_count": null,
   "id": "efaa47dc",
   "metadata": {},
   "outputs": [],
   "source": [
    "def sqr(n):\n",
    "    for i in range(n+1):\n",
    "        yield i*i"
   ]
  },
  {
   "cell_type": "code",
   "execution_count": null,
   "id": "8ef79753",
   "metadata": {},
   "outputs": [],
   "source": [
    "sqr(5)"
   ]
  },
  {
   "cell_type": "code",
   "execution_count": null,
   "id": "15329db8",
   "metadata": {},
   "outputs": [],
   "source": [
    "for i in sqr(5):\n",
    "    print(i)\n",
    "# for loop runs 6 times ? why ? "
   ]
  },
  {
   "cell_type": "code",
   "execution_count": null,
   "id": "db0c24b0",
   "metadata": {},
   "outputs": [],
   "source": [
    "gen = sqr(5)"
   ]
  },
  {
   "cell_type": "code",
   "execution_count": null,
   "id": "c0c9616e",
   "metadata": {},
   "outputs": [],
   "source": [
    "next(gen)"
   ]
  },
  {
   "cell_type": "markdown",
   "id": "2edaa4d3",
   "metadata": {},
   "source": [
    "Generators are practical for reading large files because they allow you to process one line at a time without loading the entire file into memory, making your code more memory-efficient."
   ]
  },
  {
   "cell_type": "code",
   "execution_count": null,
   "id": "32de32c4",
   "metadata": {},
   "outputs": [],
   "source": [
    "def readFile(filePath):\n",
    "    with open(filePath, 'r') as file:\n",
    "        for line in file:\n",
    "            yield line.strip()"
   ]
  },
  {
   "cell_type": "code",
   "execution_count": null,
   "id": "127e07c5",
   "metadata": {},
   "outputs": [],
   "source": [
    "readerGen = readFile('C:\\\\Users\\\\rajja\\\\AI Learning\\\\6. File Handling In PY\\\\example.txt')\n",
    "for line in readerGen:\n",
    "    print(line)"
   ]
  }
 ],
 "metadata": {
  "kernelspec": {
   "display_name": "demo",
   "language": "python",
   "name": "python3"
  },
  "language_info": {
   "codemirror_mode": {
    "name": "ipython",
    "version": 3
   },
   "file_extension": ".py",
   "mimetype": "text/x-python",
   "name": "python",
   "nbconvert_exporter": "python",
   "pygments_lexer": "ipython3",
   "version": "3.12.9"
  }
 },
 "nbformat": 4,
 "nbformat_minor": 5
}
